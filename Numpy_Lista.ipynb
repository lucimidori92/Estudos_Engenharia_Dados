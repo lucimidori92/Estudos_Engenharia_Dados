{
  "nbformat": 4,
  "nbformat_minor": 0,
  "metadata": {
    "colab": {
      "provenance": [],
      "authorship_tag": "ABX9TyOV0cMkd0FsCVrWGERYnaBu",
      "include_colab_link": true
    },
    "kernelspec": {
      "name": "python3",
      "display_name": "Python 3"
    },
    "language_info": {
      "name": "python"
    }
  },
  "cells": [
    {
      "cell_type": "markdown",
      "metadata": {
        "id": "view-in-github",
        "colab_type": "text"
      },
      "source": [
        "<a href=\"https://colab.research.google.com/github/lucimidori92/Estudos_Engenharia_Dados/blob/main/Numpy_Lista.ipynb\" target=\"_parent\"><img src=\"https://colab.research.google.com/assets/colab-badge.svg\" alt=\"Open In Colab\"/></a>"
      ]
    },
    {
      "cell_type": "markdown",
      "source": [
        "# Numpy  X Listas\n"
      ],
      "metadata": {
        "id": "gPzxZwRJFX_B"
      }
    },
    {
      "cell_type": "code",
      "execution_count": 4,
      "metadata": {
        "id": "R_zQSAsqD-a8"
      },
      "outputs": [],
      "source": [
        "# ! pip install numpy\n",
        "import numpy as np"
      ]
    },
    {
      "cell_type": "code",
      "source": [
        "s_lista = [[10, 6, 4, 8], [9, 2, 5, 5], [1, 2, 10, 10]]\n",
        "s_lista"
      ],
      "metadata": {
        "colab": {
          "base_uri": "https://localhost:8080/"
        },
        "id": "GqSdDKR5FuHa",
        "outputId": "bff635e2-673e-4513-a0b3-ab0250ebae7b"
      },
      "execution_count": 5,
      "outputs": [
        {
          "output_type": "execute_result",
          "data": {
            "text/plain": [
              "[[10, 6, 4, 8], [9, 2, 5, 5], [1, 2, 10, 10]]"
            ]
          },
          "metadata": {},
          "execution_count": 5
        }
      ]
    },
    {
      "cell_type": "code",
      "source": [
        "type(s_lista)"
      ],
      "metadata": {
        "colab": {
          "base_uri": "https://localhost:8080/"
        },
        "id": "tcGKfNq7GEOd",
        "outputId": "a59848c3-4830-43cc-821c-41d93034fe82"
      },
      "execution_count": 6,
      "outputs": [
        {
          "output_type": "execute_result",
          "data": {
            "text/plain": [
              "list"
            ]
          },
          "metadata": {},
          "execution_count": 6
        }
      ]
    },
    {
      "cell_type": "code",
      "source": [
        "# criação do objeto matriz\n",
        "s_array = np.array(s_lista)\n",
        "type(s_array)"
      ],
      "metadata": {
        "colab": {
          "base_uri": "https://localhost:8080/"
        },
        "id": "yd97a_jnGG42",
        "outputId": "9fbfef72-aa58-437e-8bb6-317b938fddc0"
      },
      "execution_count": 7,
      "outputs": [
        {
          "output_type": "execute_result",
          "data": {
            "text/plain": [
              "numpy.ndarray"
            ]
          },
          "metadata": {},
          "execution_count": 7
        }
      ]
    },
    {
      "cell_type": "code",
      "source": [
        "s_array[0][3]"
      ],
      "metadata": {
        "colab": {
          "base_uri": "https://localhost:8080/"
        },
        "id": "E-qQk56xGXKj",
        "outputId": "e5fa5fdd-5310-44dc-f426-872e8e4f0d1c"
      },
      "execution_count": 8,
      "outputs": [
        {
          "output_type": "execute_result",
          "data": {
            "text/plain": [
              "8"
            ]
          },
          "metadata": {},
          "execution_count": 8
        }
      ]
    },
    {
      "cell_type": "code",
      "source": [
        "# 2 dimensões [externo - semestre, interno - prova]\n",
        "\n",
        "s_array[0, -3]"
      ],
      "metadata": {
        "colab": {
          "base_uri": "https://localhost:8080/"
        },
        "id": "4-NDKHayGprS",
        "outputId": "a6428257-38d5-4106-cb45-beaabdd118e4"
      },
      "execution_count": 16,
      "outputs": [
        {
          "output_type": "execute_result",
          "data": {
            "text/plain": [
              "6"
            ]
          },
          "metadata": {},
          "execution_count": 16
        }
      ]
    },
    {
      "cell_type": "code",
      "source": [
        "type([1, 'a'][0])\n",
        "type([1, 'a'][1])"
      ],
      "metadata": {
        "colab": {
          "base_uri": "https://localhost:8080/"
        },
        "id": "n3mjOj_gG-ZA",
        "outputId": "55e45a6f-5faa-48ba-a08e-3a799d6aa58c"
      },
      "execution_count": 21,
      "outputs": [
        {
          "output_type": "execute_result",
          "data": {
            "text/plain": [
              "str"
            ]
          },
          "metadata": {},
          "execution_count": 21
        }
      ]
    },
    {
      "cell_type": "code",
      "source": [
        "np.array([1, 'a'])"
      ],
      "metadata": {
        "colab": {
          "base_uri": "https://localhost:8080/"
        },
        "id": "PT8RFI2UHIYO",
        "outputId": "545052ad-510a-47d2-8329-34ded40fa3f6"
      },
      "execution_count": 22,
      "outputs": [
        {
          "output_type": "execute_result",
          "data": {
            "text/plain": [
              "array(['1', 'a'], dtype='<U21')"
            ]
          },
          "metadata": {},
          "execution_count": 22
        }
      ]
    },
    {
      "cell_type": "code",
      "source": [
        "type(np.array([1, 'a'])[0])\n",
        "type(np.array([1, 'a'])[1])"
      ],
      "metadata": {
        "colab": {
          "base_uri": "https://localhost:8080/"
        },
        "id": "tsM-pjZJHcwL",
        "outputId": "df48e0a4-87c9-4bbe-a80f-6b25e055b391"
      },
      "execution_count": 26,
      "outputs": [
        {
          "output_type": "execute_result",
          "data": {
            "text/plain": [
              "numpy.str_"
            ]
          },
          "metadata": {},
          "execution_count": 26
        }
      ]
    },
    {
      "cell_type": "code",
      "source": [
        "s_array.dtype"
      ],
      "metadata": {
        "colab": {
          "base_uri": "https://localhost:8080/"
        },
        "id": "N9XDqoF0HUv7",
        "outputId": "a5bc909a-5d25-487d-c806-85e9dc17f660"
      },
      "execution_count": 23,
      "outputs": [
        {
          "output_type": "execute_result",
          "data": {
            "text/plain": [
              "dtype('int64')"
            ]
          },
          "metadata": {},
          "execution_count": 23
        }
      ]
    },
    {
      "cell_type": "code",
      "source": [
        "# ndim mostra quantas dimensões há dentro do objeto\n",
        "s_array.ndim"
      ],
      "metadata": {
        "colab": {
          "base_uri": "https://localhost:8080/"
        },
        "id": "tnlAdnCXICsv",
        "outputId": "1553574c-3dcf-4a99-feba-401ae6c31912"
      },
      "execution_count": 27,
      "outputs": [
        {
          "output_type": "execute_result",
          "data": {
            "text/plain": [
              "2"
            ]
          },
          "metadata": {},
          "execution_count": 27
        }
      ]
    },
    {
      "cell_type": "code",
      "source": [
        "# não é possível somar um inteiro com lista: s_lista + 1\n",
        "s_array * 2"
      ],
      "metadata": {
        "colab": {
          "base_uri": "https://localhost:8080/"
        },
        "id": "KoIdtD_pJg3n",
        "outputId": "c91bb45f-928d-4b60-a3a3-7c271ae4d03a"
      },
      "execution_count": 44,
      "outputs": [
        {
          "output_type": "execute_result",
          "data": {
            "text/plain": [
              "array([[20, 12,  8, 16],\n",
              "       [18,  4, 10, 10],\n",
              "       [ 2,  4, 20, 20]])"
            ]
          },
          "metadata": {},
          "execution_count": 44
        }
      ]
    },
    {
      "cell_type": "code",
      "source": [
        "s_lista = [[10, 6, 4, 8], [9, 2, 5, 5], [1, 2, 10, 10]]\n",
        "for lista in s_lista:\n",
        "  for nota in lista:\n",
        "    nota += 1\n",
        "    print(nota)"
      ],
      "metadata": {
        "colab": {
          "base_uri": "https://localhost:8080/"
        },
        "id": "gwnT4xLoJyEZ",
        "outputId": "7e13b1b5-9484-4f06-b6bd-9ebf99687d45"
      },
      "execution_count": 41,
      "outputs": [
        {
          "output_type": "stream",
          "name": "stdout",
          "text": [
            "11\n",
            "7\n",
            "5\n",
            "9\n",
            "10\n",
            "3\n",
            "6\n",
            "6\n",
            "2\n",
            "3\n",
            "11\n",
            "11\n"
          ]
        }
      ]
    },
    {
      "cell_type": "code",
      "source": [
        "s_array % 2"
      ],
      "metadata": {
        "colab": {
          "base_uri": "https://localhost:8080/"
        },
        "id": "QDO_-Pm3LRO9",
        "outputId": "7e0cf4d4-a4a3-452a-b021-3770bf4a25b9"
      },
      "execution_count": 45,
      "outputs": [
        {
          "output_type": "execute_result",
          "data": {
            "text/plain": [
              "array([[0, 0, 0, 0],\n",
              "       [1, 0, 1, 1],\n",
              "       [1, 0, 0, 0]])"
            ]
          },
          "metadata": {},
          "execution_count": 45
        }
      ]
    },
    {
      "cell_type": "code",
      "source": [
        "result = []\n",
        "for index in range(len(s_lista)):\n",
        "  result.append([])\n",
        "  for item in s_lista[index]:\n",
        "    update = item % 2\n",
        "    result[index].append(update)\n",
        "print(result)"
      ],
      "metadata": {
        "colab": {
          "base_uri": "https://localhost:8080/"
        },
        "id": "kAgjwu3BLYmR",
        "outputId": "b8e35d79-fb7c-4bc1-a582-282d17289909"
      },
      "execution_count": 53,
      "outputs": [
        {
          "output_type": "stream",
          "name": "stdout",
          "text": [
            "[[0, 0, 0, 0], [1, 0, 1, 1], [1, 0, 0, 0]]\n"
          ]
        }
      ]
    },
    {
      "cell_type": "code",
      "source": [
        "s_lista"
      ],
      "metadata": {
        "colab": {
          "base_uri": "https://localhost:8080/"
        },
        "id": "m9dr8oWjrRX2",
        "outputId": "4049d9c6-d3af-4c0d-a553-c8ecbc1b5f7c"
      },
      "execution_count": 10,
      "outputs": [
        {
          "output_type": "execute_result",
          "data": {
            "text/plain": [
              "[[10, 6, 4, 8], [9, 2, 5, 5], [1, 2, 10, 10]]"
            ]
          },
          "metadata": {},
          "execution_count": 10
        }
      ]
    },
    {
      "cell_type": "code",
      "source": [
        "s_array % 2 == 0"
      ],
      "metadata": {
        "colab": {
          "base_uri": "https://localhost:8080/"
        },
        "id": "rHlCnE0yrdcc",
        "outputId": "0dd8101c-f4c7-4f97-955e-872dba43c219"
      },
      "execution_count": 13,
      "outputs": [
        {
          "output_type": "execute_result",
          "data": {
            "text/plain": [
              "array([[ True,  True,  True,  True],\n",
              "       [False,  True, False, False],\n",
              "       [False,  True,  True,  True]])"
            ]
          },
          "metadata": {},
          "execution_count": 13
        }
      ]
    },
    {
      "cell_type": "code",
      "source": [
        "# máscara - true or false, para filtragem\n",
        "is_par = s_array % 2 == 0\n",
        "s_array[is_par]"
      ],
      "metadata": {
        "colab": {
          "base_uri": "https://localhost:8080/"
        },
        "id": "SclIrHNurfyV",
        "outputId": "8446ed72-a1f9-4653-d5e6-71855d0ed100"
      },
      "execution_count": 14,
      "outputs": [
        {
          "output_type": "execute_result",
          "data": {
            "text/plain": [
              "array([10,  6,  4,  8,  2,  2, 10, 10])"
            ]
          },
          "metadata": {},
          "execution_count": 14
        }
      ]
    },
    {
      "cell_type": "markdown",
      "source": [
        "# Operações booleanas\n",
        "- not -> ~\n",
        "- and -> &\n",
        "- or -> |\n",
        "- xor -> ^"
      ],
      "metadata": {
        "id": "P7ysIK7OsI07"
      }
    },
    {
      "cell_type": "code",
      "source": [
        "\n",
        "s_array[~ is_par]\n"
      ],
      "metadata": {
        "colab": {
          "base_uri": "https://localhost:8080/"
        },
        "id": "Lie33eohr6yI",
        "outputId": "5c1859c4-1f1f-42c4-89ba-30f7d8709017"
      },
      "execution_count": 16,
      "outputs": [
        {
          "output_type": "execute_result",
          "data": {
            "text/plain": [
              "array([9, 5, 5, 1])"
            ]
          },
          "metadata": {},
          "execution_count": 16
        }
      ]
    },
    {
      "cell_type": "code",
      "source": [
        "is_multi_5 = s_array % 5 == 0\n",
        "filter = is_multi_5 & is_par\n",
        "s_array[filter]"
      ],
      "metadata": {
        "colab": {
          "base_uri": "https://localhost:8080/"
        },
        "id": "R6fShmClsTZB",
        "outputId": "d8f5a755-27d3-4672-db9f-5e893aefc568"
      },
      "execution_count": 24,
      "outputs": [
        {
          "output_type": "execute_result",
          "data": {
            "text/plain": [
              "array([10, 10, 10])"
            ]
          },
          "metadata": {},
          "execution_count": 24
        }
      ]
    },
    {
      "cell_type": "code",
      "source": [
        "a_lista = [s_lista, s_lista]\n",
        "\n",
        "a_lista"
      ],
      "metadata": {
        "colab": {
          "base_uri": "https://localhost:8080/"
        },
        "id": "jvUXhxUPtDaw",
        "outputId": "d3b9bc0e-fe18-49c8-9805-c3e8f6c7a084"
      },
      "execution_count": 29,
      "outputs": [
        {
          "output_type": "execute_result",
          "data": {
            "text/plain": [
              "[[[10, 6, 4, 8], [9, 2, 5, 5], [1, 2, 10, 10]],\n",
              " [[10, 6, 4, 8], [9, 2, 5, 5], [1, 2, 10, 10]]]"
            ]
          },
          "metadata": {},
          "execution_count": 29
        }
      ]
    },
    {
      "cell_type": "code",
      "source": [
        "a_vetor = np.array(a_lista)\n",
        "a_vetor"
      ],
      "metadata": {
        "colab": {
          "base_uri": "https://localhost:8080/"
        },
        "id": "rAwHXpQStNhu",
        "outputId": "1a57a410-4606-433a-dc20-35a92791489b"
      },
      "execution_count": 31,
      "outputs": [
        {
          "output_type": "execute_result",
          "data": {
            "text/plain": [
              "array([[[10,  6,  4,  8],\n",
              "        [ 9,  2,  5,  5],\n",
              "        [ 1,  2, 10, 10]],\n",
              "\n",
              "       [[10,  6,  4,  8],\n",
              "        [ 9,  2,  5,  5],\n",
              "        [ 1,  2, 10, 10]]])"
            ]
          },
          "metadata": {},
          "execution_count": 31
        }
      ]
    },
    {
      "cell_type": "code",
      "source": [
        "# [ano, semestre, prova-nota]\n",
        "\n",
        "a_vetor[1, 0, -1]"
      ],
      "metadata": {
        "colab": {
          "base_uri": "https://localhost:8080/"
        },
        "id": "xnXyn6FotUcT",
        "outputId": "9c952b95-c085-4615-8fe5-cc2485858484"
      },
      "execution_count": 33,
      "outputs": [
        {
          "output_type": "execute_result",
          "data": {
            "text/plain": [
              "8"
            ]
          },
          "metadata": {},
          "execution_count": 33
        }
      ]
    },
    {
      "cell_type": "code",
      "source": [
        "a_vetor[1, :, :] = a_vetor[1, :, :] + 1\n",
        "a_vetor"
      ],
      "metadata": {
        "colab": {
          "base_uri": "https://localhost:8080/"
        },
        "id": "USBogJ27tlHL",
        "outputId": "c19240fc-84aa-48a1-c9d4-8a91907d2b97"
      },
      "execution_count": 37,
      "outputs": [
        {
          "output_type": "execute_result",
          "data": {
            "text/plain": [
              "array([[[10,  6,  4,  8],\n",
              "        [ 9,  2,  5,  5],\n",
              "        [ 1,  2, 10, 10]],\n",
              "\n",
              "       [[12,  8,  6, 10],\n",
              "        [11,  4,  7,  7],\n",
              "        [ 3,  4, 12, 12]]])"
            ]
          },
          "metadata": {},
          "execution_count": 37
        }
      ]
    },
    {
      "cell_type": "code",
      "source": [
        "# puxa todos os anos, todos os semestres, a última prova\n",
        "a_vetor[:, :, -1]"
      ],
      "metadata": {
        "colab": {
          "base_uri": "https://localhost:8080/"
        },
        "id": "YqOdJEa-t-bs",
        "outputId": "ac5a3145-888d-4426-c22c-76c65e8a40f4"
      },
      "execution_count": 38,
      "outputs": [
        {
          "output_type": "execute_result",
          "data": {
            "text/plain": [
              "array([[ 8,  5, 10],\n",
              "       [10,  7, 12]])"
            ]
          },
          "metadata": {},
          "execution_count": 38
        }
      ]
    },
    {
      "cell_type": "code",
      "source": [
        "a_vetor[:, :, -2]"
      ],
      "metadata": {
        "colab": {
          "base_uri": "https://localhost:8080/"
        },
        "id": "-VuSYmnBuMQn",
        "outputId": "26c446d6-1063-444e-a7e0-41bc2d4535b9"
      },
      "execution_count": 39,
      "outputs": [
        {
          "output_type": "execute_result",
          "data": {
            "text/plain": [
              "array([[ 4,  5, 10],\n",
              "       [ 6,  7, 12]])"
            ]
          },
          "metadata": {},
          "execution_count": 39
        }
      ]
    },
    {
      "cell_type": "code",
      "source": [
        "a_vetor[:, :, [0, -1]]"
      ],
      "metadata": {
        "colab": {
          "base_uri": "https://localhost:8080/"
        },
        "id": "EE3q_glRuPWQ",
        "outputId": "0b3901d7-864a-4e8a-938d-488a7c4c6bb2"
      },
      "execution_count": 40,
      "outputs": [
        {
          "output_type": "execute_result",
          "data": {
            "text/plain": [
              "array([[[10,  8],\n",
              "        [ 9,  5],\n",
              "        [ 1, 10]],\n",
              "\n",
              "       [[12, 10],\n",
              "        [11,  7],\n",
              "        [ 3, 12]]])"
            ]
          },
          "metadata": {},
          "execution_count": 40
        }
      ]
    },
    {
      "cell_type": "code",
      "source": [
        "ano = [0, 1, 1]\n",
        "semestre = [0, 0, 1]\n",
        "prova = [0, 1, 2]\n",
        "\n",
        "a_vetor[ano, semestre, prova]\n"
      ],
      "metadata": {
        "colab": {
          "base_uri": "https://localhost:8080/"
        },
        "id": "Yu2kaVtkuo5u",
        "outputId": "d1ab4a45-5379-404b-f050-0225e157c097"
      },
      "execution_count": 41,
      "outputs": [
        {
          "output_type": "execute_result",
          "data": {
            "text/plain": [
              "array([10,  8,  7])"
            ]
          },
          "metadata": {},
          "execution_count": 41
        }
      ]
    },
    {
      "cell_type": "code",
      "source": [
        "a_vetor.shape"
      ],
      "metadata": {
        "colab": {
          "base_uri": "https://localhost:8080/"
        },
        "id": "VnBw1ycIvRF3",
        "outputId": "ae5479cc-571c-49da-9bd5-851e352b7a76"
      },
      "execution_count": 42,
      "outputs": [
        {
          "output_type": "execute_result",
          "data": {
            "text/plain": [
              "(2, 3, 4)"
            ]
          },
          "metadata": {},
          "execution_count": 42
        }
      ]
    },
    {
      "cell_type": "markdown",
      "source": [
        "# Criação\n"
      ],
      "metadata": {
        "id": "vGgrlbPFvNFp"
      }
    },
    {
      "cell_type": "code",
      "source": [
        "help(np.full)"
      ],
      "metadata": {
        "colab": {
          "base_uri": "https://localhost:8080/"
        },
        "id": "NagqH_MNvmQy",
        "outputId": "203fa622-e7de-47bb-c75a-1fd8280fbbf3"
      },
      "execution_count": 49,
      "outputs": [
        {
          "output_type": "stream",
          "name": "stdout",
          "text": [
            "Help on function full in module numpy:\n",
            "\n",
            "full(shape, fill_value, dtype=None, order='C', *, like=None)\n",
            "    Return a new array of given shape and type, filled with `fill_value`.\n",
            "    \n",
            "    Parameters\n",
            "    ----------\n",
            "    shape : int or sequence of ints\n",
            "        Shape of the new array, e.g., ``(2, 3)`` or ``2``.\n",
            "    fill_value : scalar or array_like\n",
            "        Fill value.\n",
            "    dtype : data-type, optional\n",
            "        The desired data-type for the array  The default, None, means\n",
            "         ``np.array(fill_value).dtype``.\n",
            "    order : {'C', 'F'}, optional\n",
            "        Whether to store multidimensional data in C- or Fortran-contiguous\n",
            "        (row- or column-wise) order in memory.\n",
            "    like : array_like, optional\n",
            "        Reference object to allow the creation of arrays which are not\n",
            "        NumPy arrays. If an array-like passed in as ``like`` supports\n",
            "        the ``__array_function__`` protocol, the result will be defined\n",
            "        by it. In this case, it ensures the creation of an array object\n",
            "        compatible with that passed in via this argument.\n",
            "    \n",
            "        .. versionadded:: 1.20.0\n",
            "    \n",
            "    Returns\n",
            "    -------\n",
            "    out : ndarray\n",
            "        Array of `fill_value` with the given shape, dtype, and order.\n",
            "    \n",
            "    See Also\n",
            "    --------\n",
            "    full_like : Return a new array with shape of input filled with value.\n",
            "    empty : Return a new uninitialized array.\n",
            "    ones : Return a new array setting values to one.\n",
            "    zeros : Return a new array setting values to zero.\n",
            "    \n",
            "    Examples\n",
            "    --------\n",
            "    >>> np.full((2, 2), np.inf)\n",
            "    array([[inf, inf],\n",
            "           [inf, inf]])\n",
            "    >>> np.full((2, 2), 10)\n",
            "    array([[10, 10],\n",
            "           [10, 10]])\n",
            "    \n",
            "    >>> np.full((2, 2), [1, 2])\n",
            "    array([[1, 2],\n",
            "           [1, 2]])\n",
            "\n"
          ]
        }
      ]
    },
    {
      "cell_type": "code",
      "source": [
        "np.full([2, 3, 4], 2)\n"
      ],
      "metadata": {
        "colab": {
          "base_uri": "https://localhost:8080/"
        },
        "id": "vkZUS-3TvOgs",
        "outputId": "02897bbe-16ce-4f65-c614-f9f61dae6b9f"
      },
      "execution_count": 48,
      "outputs": [
        {
          "output_type": "execute_result",
          "data": {
            "text/plain": [
              "array([[[2, 2, 2, 2],\n",
              "        [2, 2, 2, 2],\n",
              "        [2, 2, 2, 2]],\n",
              "\n",
              "       [[2, 2, 2, 2],\n",
              "        [2, 2, 2, 2],\n",
              "        [2, 2, 2, 2]]])"
            ]
          },
          "metadata": {},
          "execution_count": 48
        }
      ]
    },
    {
      "cell_type": "code",
      "source": [
        "np.arange(2, 21, 2)"
      ],
      "metadata": {
        "colab": {
          "base_uri": "https://localhost:8080/"
        },
        "id": "NqR0nUqsvqhE",
        "outputId": "fe3b6776-ec46-4a0c-8e65-d789c8cb8bcf"
      },
      "execution_count": 51,
      "outputs": [
        {
          "output_type": "execute_result",
          "data": {
            "text/plain": [
              "array([ 2,  4,  6,  8, 10, 12, 14, 16, 18, 20])"
            ]
          },
          "metadata": {},
          "execution_count": 51
        }
      ]
    },
    {
      "cell_type": "code",
      "source": [
        "# import random\n",
        "# random.randint\n",
        "# randint - começa pelo zero, vai até 10 (11-1), e o shape do meu array (2, 3, 4)\n",
        "np.random.randint(0, 11, (2, 3, 4))"
      ],
      "metadata": {
        "colab": {
          "base_uri": "https://localhost:8080/"
        },
        "id": "1vB5JjRov3Ab",
        "outputId": "530891f1-4858-4292-88d3-aadf853e0a15"
      },
      "execution_count": 58,
      "outputs": [
        {
          "output_type": "execute_result",
          "data": {
            "text/plain": [
              "array([[[ 1,  8,  0,  8],\n",
              "        [ 4, 10,  1,  4],\n",
              "        [ 3,  0,  7,  5]],\n",
              "\n",
              "       [[ 9,  4,  1,  8],\n",
              "        [ 1,  1,  3,  2],\n",
              "        [ 7,  8,  5,  6]]])"
            ]
          },
          "metadata": {},
          "execution_count": 58
        }
      ]
    },
    {
      "cell_type": "code",
      "source": [
        "np.round(np.random.uniform(0, 11, (2, 3, 4)), 2)"
      ],
      "metadata": {
        "colab": {
          "base_uri": "https://localhost:8080/"
        },
        "id": "KIIEdXebwYHR",
        "outputId": "eb872c7a-45bc-4f56-a972-71d5070825a8"
      },
      "execution_count": 63,
      "outputs": [
        {
          "output_type": "execute_result",
          "data": {
            "text/plain": [
              "array([[[ 1.97,  6.41,  3.93,  9.98],\n",
              "        [ 0.55,  6.87,  1.18,  6.36],\n",
              "        [ 2.57, 10.41,  1.17,  7.32]],\n",
              "\n",
              "       [[ 0.52,  7.44,  2.77,  3.34],\n",
              "        [ 6.9 ,  7.72,  6.92,  7.38],\n",
              "        [ 9.59,  2.63,  6.6 ,  4.24]]])"
            ]
          },
          "metadata": {},
          "execution_count": 63
        }
      ]
    },
    {
      "cell_type": "code",
      "source": [
        "np.random.choice(['aprovado', 'reprovado'], (2, 3, 4))"
      ],
      "metadata": {
        "colab": {
          "base_uri": "https://localhost:8080/"
        },
        "id": "74We-FIxwoMw",
        "outputId": "e48f1ee1-d888-4a86-bf3e-8b8c58a2c4e3"
      },
      "execution_count": 64,
      "outputs": [
        {
          "output_type": "execute_result",
          "data": {
            "text/plain": [
              "array([[['reprovado', 'aprovado', 'aprovado', 'aprovado'],\n",
              "        ['reprovado', 'aprovado', 'aprovado', 'reprovado'],\n",
              "        ['reprovado', 'reprovado', 'aprovado', 'reprovado']],\n",
              "\n",
              "       [['aprovado', 'aprovado', 'aprovado', 'reprovado'],\n",
              "        ['aprovado', 'aprovado', 'reprovado', 'reprovado'],\n",
              "        ['reprovado', 'reprovado', 'aprovado', 'aprovado']]], dtype='<U9')"
            ]
          },
          "metadata": {},
          "execution_count": 64
        }
      ]
    }
  ]
}