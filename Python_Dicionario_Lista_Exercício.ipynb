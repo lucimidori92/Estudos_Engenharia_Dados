{
  "nbformat": 4,
  "nbformat_minor": 0,
  "metadata": {
    "colab": {
      "provenance": [],
      "authorship_tag": "ABX9TyPmBh2LPxg79VVLchpQmEE8",
      "include_colab_link": true
    },
    "kernelspec": {
      "name": "python3",
      "display_name": "Python 3"
    },
    "language_info": {
      "name": "python"
    }
  },
  "cells": [
    {
      "cell_type": "markdown",
      "metadata": {
        "id": "view-in-github",
        "colab_type": "text"
      },
      "source": [
        "<a href=\"https://colab.research.google.com/github/lucimidori92/Estudos_Engenharia_Dados/blob/main/Python_Dicionario_Lista_Exerc%C3%ADcio.ipynb\" target=\"_parent\"><img src=\"https://colab.research.google.com/assets/colab-badge.svg\" alt=\"Open In Colab\"/></a>"
      ]
    },
    {
      "cell_type": "code",
      "execution_count": 1,
      "metadata": {
        "colab": {
          "base_uri": "https://localhost:8080/"
        },
        "id": "PLiGyEpbcdaV",
        "outputId": "25ca82a9-0f5f-44cd-a915-122aed37832b"
      },
      "outputs": [
        {
          "output_type": "execute_result",
          "data": {
            "text/plain": [
              "10"
            ]
          },
          "metadata": {},
          "execution_count": 1
        }
      ],
      "source": [
        "variavel = 10\n",
        "variavel"
      ]
    },
    {
      "cell_type": "code",
      "source": [
        "dicionario = {\n",
        "    \"diligencia\": \"Diligência é o zelo, cuidado e aplicação na realização de algo, a velocidade no modo de fazer algo, a investigação sobre algo ou alguém, a cuidados, métodos ou providências\",\n",
        "    \"cookies\": \"Um cookie é um arquivo gerado pelo navegador com informações relevantes acerca do comportamento daquela página.\",\n",
        "    \"verbete\": \"Um verbete é uma unidade de informação que contém a definição e a descrição de um termo específico em um glossário, dicionário ou enciclopédia.\"\n",
        "}"
      ],
      "metadata": {
        "id": "72MuuW8IdCG-"
      },
      "execution_count": 68,
      "outputs": []
    },
    {
      "cell_type": "code",
      "source": [
        "dicionario[\"diligencia\"]"
      ],
      "metadata": {
        "colab": {
          "base_uri": "https://localhost:8080/",
          "height": 35
        },
        "id": "lpibOO6bdrAO",
        "outputId": "12f0eebd-3d4a-49c9-8ec1-99baa98c6bc7"
      },
      "execution_count": 6,
      "outputs": [
        {
          "output_type": "execute_result",
          "data": {
            "text/plain": [
              "'Diligência é o zelo, cuidado e aplicação na realização de algo, a velocidade no modo de fazer algo, a investigação sobre algo ou alguém, a cuidados, métodos ou providências'"
            ],
            "application/vnd.google.colaboratory.intrinsic+json": {
              "type": "string"
            }
          },
          "metadata": {},
          "execution_count": 6
        }
      ]
    },
    {
      "cell_type": "code",
      "source": [
        "type(dicionario)"
      ],
      "metadata": {
        "colab": {
          "base_uri": "https://localhost:8080/"
        },
        "id": "LIGl3pmBdsJG",
        "outputId": "ab28cbb6-0c69-42af-ae0d-0bbb38c15b2f"
      },
      "execution_count": 7,
      "outputs": [
        {
          "output_type": "execute_result",
          "data": {
            "text/plain": [
              "dict"
            ]
          },
          "metadata": {},
          "execution_count": 7
        }
      ]
    },
    {
      "cell_type": "code",
      "source": [
        "# O comando IN funciona para verificação e validação de items dentro do dicionário.\n",
        "\"diligencia\" in dicionario"
      ],
      "metadata": {
        "colab": {
          "base_uri": "https://localhost:8080/"
        },
        "id": "d-DfOWPcd0iN",
        "outputId": "898ea6b2-ec6f-4f6f-a0e0-13f003b877bd"
      },
      "execution_count": 8,
      "outputs": [
        {
          "output_type": "execute_result",
          "data": {
            "text/plain": [
              "True"
            ]
          },
          "metadata": {},
          "execution_count": 8
        }
      ]
    },
    {
      "cell_type": "code",
      "source": [
        "palavra = input(\"Palavra: \")\n",
        "\n",
        "if palavra in dicionario:\n",
        "  print(dicionario[palavra])\n",
        "else:\n",
        "  print(\"Palavra não encontrada\")"
      ],
      "metadata": {
        "colab": {
          "base_uri": "https://localhost:8080/"
        },
        "id": "PUUNO4HheIre",
        "outputId": "22b788f0-0888-4fde-a46d-d65b3db804a3"
      },
      "execution_count": 12,
      "outputs": [
        {
          "output_type": "stream",
          "name": "stdout",
          "text": [
            "Palavra: cookies\n",
            "Um cookie é um arquivo gerado pelo navegador com informações relevantes acerca do comportamento daquela página.\n"
          ]
        }
      ]
    },
    {
      "cell_type": "code",
      "source": [
        "dicionario.pop(\"cookies\")\n",
        "print(dicionario)"
      ],
      "metadata": {
        "colab": {
          "base_uri": "https://localhost:8080/"
        },
        "id": "MNHlJJnAgKoC",
        "outputId": "c7de310d-1580-4e6d-9dc7-8d649544c652"
      },
      "execution_count": 46,
      "outputs": [
        {
          "output_type": "stream",
          "name": "stdout",
          "text": [
            "{'verbete': 'Um verbete é uma unidade de informação que contém a definição e a descrição de um termo específico em um glossário, dicionário ou enciclopédia.'}\n"
          ]
        }
      ]
    },
    {
      "cell_type": "code",
      "source": [
        "lista = ['a', 'b', 'c']"
      ],
      "metadata": {
        "id": "P_qCyDekjB1b"
      },
      "execution_count": 55,
      "outputs": []
    },
    {
      "cell_type": "code",
      "source": [
        "dict.fromkeys(lista, \"default\")"
      ],
      "metadata": {
        "colab": {
          "base_uri": "https://localhost:8080/"
        },
        "id": "6rhZkROUiwZD",
        "outputId": "36b16dd6-b705-49ef-8757-eebc3d96ef25"
      },
      "execution_count": 64,
      "outputs": [
        {
          "output_type": "execute_result",
          "data": {
            "text/plain": [
              "{'a': 'default', 'b': 'default', 'c': 'default'}"
            ]
          },
          "metadata": {},
          "execution_count": 64
        }
      ]
    },
    {
      "cell_type": "code",
      "source": [
        "dicionario.get(\"amor\", \"palavra não encontrada!!\")"
      ],
      "metadata": {
        "colab": {
          "base_uri": "https://localhost:8080/",
          "height": 35
        },
        "id": "WA2p0bk3j3gr",
        "outputId": "bc09eeaa-6d00-4c12-b297-ade8f76efbcd"
      },
      "execution_count": 66,
      "outputs": [
        {
          "output_type": "execute_result",
          "data": {
            "text/plain": [
              "'palavra não encontrada!!'"
            ],
            "application/vnd.google.colaboratory.intrinsic+json": {
              "type": "string"
            }
          },
          "metadata": {},
          "execution_count": 66
        }
      ]
    },
    {
      "cell_type": "code",
      "source": [
        "# inclui novos items no dicionário\n",
        "dicionario.setdefault(\"verbete\", \"Sentimento que faz com que uma pessoa queira o bem de outra: ao vê-la bem senti amor.\")"
      ],
      "metadata": {
        "colab": {
          "base_uri": "https://localhost:8080/",
          "height": 35
        },
        "id": "WUuAJ66dkiKn",
        "outputId": "3fdb3b15-e474-453c-91fc-5c02abdb32f8"
      },
      "execution_count": 70,
      "outputs": [
        {
          "output_type": "execute_result",
          "data": {
            "text/plain": [
              "'Um verbete é uma unidade de informação que contém a definição e a descrição de um termo específico em um glossário, dicionário ou enciclopédia.'"
            ],
            "application/vnd.google.colaboratory.intrinsic+json": {
              "type": "string"
            }
          },
          "metadata": {},
          "execution_count": 70
        }
      ]
    },
    {
      "cell_type": "code",
      "source": [
        "dicionario_2 = {\"saudade\": \"Saudade é um sentimento causado pela distância ou ausência de algo ou alguém. Tem origem no latim, com o significado de solidão.\"}"
      ],
      "metadata": {
        "id": "uq_ixl7ulrgY"
      },
      "execution_count": 72,
      "outputs": []
    },
    {
      "cell_type": "code",
      "source": [
        "dicionario.update(dicionario_2)"
      ],
      "metadata": {
        "id": "VO0WqPFFl2X-"
      },
      "execution_count": 73,
      "outputs": []
    },
    {
      "cell_type": "code",
      "source": [
        "dicionario"
      ],
      "metadata": {
        "colab": {
          "base_uri": "https://localhost:8080/"
        },
        "id": "ozVD8zCvjTBQ",
        "outputId": "8db9c44b-09a5-442e-88eb-ccda85d18d5a"
      },
      "execution_count": 74,
      "outputs": [
        {
          "output_type": "execute_result",
          "data": {
            "text/plain": [
              "{'diligencia': 'Diligência é o zelo, cuidado e aplicação na realização de algo, a velocidade no modo de fazer algo, a investigação sobre algo ou alguém, a cuidados, métodos ou providências',\n",
              " 'cookies': 'Um cookie é um arquivo gerado pelo navegador com informações relevantes acerca do comportamento daquela página.',\n",
              " 'verbete': 'Um verbete é uma unidade de informação que contém a definição e a descrição de um termo específico em um glossário, dicionário ou enciclopédia.',\n",
              " 'amor': 'Sentimento que faz com que uma pessoa queira o bem de outra: ao vê-la bem senti amor.',\n",
              " 'saudade': 'Saudade é um sentimento causado pela distância ou ausência de algo ou alguém. Tem origem no latim, com o significado de solidão.'}"
            ]
          },
          "metadata": {},
          "execution_count": 74
        }
      ]
    },
    {
      "cell_type": "code",
      "source": [
        "for palavra, definicao in dicionario.items():\n",
        "  print(palavra, '=', definicao)"
      ],
      "metadata": {
        "colab": {
          "base_uri": "https://localhost:8080/"
        },
        "id": "NQIyBwlMgQCA",
        "outputId": "35367801-a6f4-4dc5-a0a6-f5e8f52d84c9"
      },
      "execution_count": 19,
      "outputs": [
        {
          "output_type": "stream",
          "name": "stdout",
          "text": [
            "diligencia = Diligência é o zelo, cuidado e aplicação na realização de algo, a velocidade no modo de fazer algo, a investigação sobre algo ou alguém, a cuidados, métodos ou providências\n",
            "cookies = Um cookie é um arquivo gerado pelo navegador com informações relevantes acerca do comportamento daquela página.\n",
            "verbete = Um verbete é uma unidade de informação que contém a definição e a descrição de um termo específico em um glossário, dicionário ou enciclopédia.\n"
          ]
        }
      ]
    },
    {
      "cell_type": "code",
      "source": [
        "dicionario.keys()\n",
        "dicionario.values()\n",
        "dicionario.items()"
      ],
      "metadata": {
        "colab": {
          "base_uri": "https://localhost:8080/"
        },
        "id": "pUmuABvxg7UZ",
        "outputId": "13cca3fe-5156-49c9-ea79-53e6bfc956ac"
      },
      "execution_count": 23,
      "outputs": [
        {
          "output_type": "execute_result",
          "data": {
            "text/plain": [
              "dict_items([('diligencia', 'Diligência é o zelo, cuidado e aplicação na realização de algo, a velocidade no modo de fazer algo, a investigação sobre algo ou alguém, a cuidados, métodos ou providências'), ('cookies', 'Um cookie é um arquivo gerado pelo navegador com informações relevantes acerca do comportamento daquela página.'), ('verbete', 'Um verbete é uma unidade de informação que contém a definição e a descrição de um termo específico em um glossário, dicionário ou enciclopédia.')])"
            ]
          },
          "metadata": {},
          "execution_count": 23
        }
      ]
    },
    {
      "cell_type": "code",
      "source": [
        "dir(dict)"
      ],
      "metadata": {
        "colab": {
          "base_uri": "https://localhost:8080/"
        },
        "id": "Z4Zf4wK_edpx",
        "outputId": "38448922-794f-4b04-dc9f-5ec03b404d56"
      },
      "execution_count": 13,
      "outputs": [
        {
          "output_type": "execute_result",
          "data": {
            "text/plain": [
              "['__class__',\n",
              " '__class_getitem__',\n",
              " '__contains__',\n",
              " '__delattr__',\n",
              " '__delitem__',\n",
              " '__dir__',\n",
              " '__doc__',\n",
              " '__eq__',\n",
              " '__format__',\n",
              " '__ge__',\n",
              " '__getattribute__',\n",
              " '__getitem__',\n",
              " '__gt__',\n",
              " '__hash__',\n",
              " '__init__',\n",
              " '__init_subclass__',\n",
              " '__ior__',\n",
              " '__iter__',\n",
              " '__le__',\n",
              " '__len__',\n",
              " '__lt__',\n",
              " '__ne__',\n",
              " '__new__',\n",
              " '__or__',\n",
              " '__reduce__',\n",
              " '__reduce_ex__',\n",
              " '__repr__',\n",
              " '__reversed__',\n",
              " '__ror__',\n",
              " '__setattr__',\n",
              " '__setitem__',\n",
              " '__sizeof__',\n",
              " '__str__',\n",
              " '__subclasshook__',\n",
              " 'clear',\n",
              " 'copy',\n",
              " 'fromkeys',\n",
              " 'get',\n",
              " 'items',\n",
              " 'keys',\n",
              " 'pop',\n",
              " 'popitem',\n",
              " 'setdefault',\n",
              " 'update',\n",
              " 'values']"
            ]
          },
          "metadata": {},
          "execution_count": 13
        }
      ]
    },
    {
      "cell_type": "code",
      "source": [
        "help(dict.setdefault)"
      ],
      "metadata": {
        "colab": {
          "base_uri": "https://localhost:8080/"
        },
        "id": "4KvNxs3lhLw7",
        "outputId": "2061801e-2657-4e1f-addf-a256fa42423b"
      },
      "execution_count": 67,
      "outputs": [
        {
          "output_type": "stream",
          "name": "stdout",
          "text": [
            "Help on method_descriptor:\n",
            "\n",
            "setdefault(self, key, default=None, /)\n",
            "    Insert key with a value of default if key is not in the dictionary.\n",
            "    \n",
            "    Return the value for key if key is in the dictionary, else default.\n",
            "\n"
          ]
        }
      ]
    },
    {
      "cell_type": "code",
      "source": [],
      "metadata": {
        "id": "7S6EwPSphLp3"
      },
      "execution_count": null,
      "outputs": []
    }
  ]
}