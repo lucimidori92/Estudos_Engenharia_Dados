{
  "nbformat": 4,
  "nbformat_minor": 0,
  "metadata": {
    "colab": {
      "provenance": [],
      "authorship_tag": "ABX9TyOYxl0vFjYlOjTswmZPBXOr",
      "include_colab_link": true
    },
    "kernelspec": {
      "name": "python3",
      "display_name": "Python 3"
    },
    "language_info": {
      "name": "python"
    }
  },
  "cells": [
    {
      "cell_type": "markdown",
      "metadata": {
        "id": "view-in-github",
        "colab_type": "text"
      },
      "source": [
        "<a href=\"https://colab.research.google.com/github/lucimidori92/Estudos_Engenharia_Dados/blob/main/Python_Repeticao_Lista_Exerc%C3%ADcio.ipynb\" target=\"_parent\"><img src=\"https://colab.research.google.com/assets/colab-badge.svg\" alt=\"Open In Colab\"/></a>"
      ]
    },
    {
      "cell_type": "markdown",
      "source": [
        "## 1. Faça um programa que peça uma nota, entre zero e dez. Mostre uma mensagem caso o valor seja inválido e continue pedindo até que o usuário informe um valor válido."
      ],
      "metadata": {
        "id": "ixFJ1cNpW9F8"
      }
    },
    {
      "cell_type": "code",
      "execution_count": 7,
      "metadata": {
        "colab": {
          "base_uri": "https://localhost:8080/"
        },
        "id": "76XVnacsW2j2",
        "outputId": "e9612d01-9d60-4f54-98c8-f15aada1271c"
      },
      "outputs": [
        {
          "output_type": "stream",
          "name": "stdout",
          "text": [
            "Nota de 0 a 10: 100\n",
            "O valor 100 é inválido.\n",
            "Nota de 0 a 10: 10\n",
            "O valor 10 é válido.\n"
          ]
        }
      ],
      "source": [
        "nota = int(input(\"Nota de 0 a 10: \"))\n",
        "\n",
        "while not (nota >= 0 and nota <= 10):\n",
        "  print(f\"O valor {nota} é inválido.\")\n",
        "  nota = int(input(\"Nota de 0 a 10: \"))\n",
        "else:\n",
        "  print(f\"O valor {nota} é válido.\")\n"
      ]
    },
    {
      "cell_type": "markdown",
      "source": [
        "## 2. Faça um programa que imprima na tela os números de 1 a 20, um abaixo do outro. Depois modifique o programa para que ele mostre os números um ao lado do outro.\n"
      ],
      "metadata": {
        "id": "Pd_0tVyUY5mh"
      }
    },
    {
      "cell_type": "code",
      "source": [
        "num = 0\n",
        "lista = []\n",
        "\n",
        "for num in range(1, 21):\n",
        "  lista.append(num)\n",
        "print(lista)"
      ],
      "metadata": {
        "colab": {
          "base_uri": "https://localhost:8080/"
        },
        "id": "ueNN5oTWY-A_",
        "outputId": "a2d0bcbb-24f7-48f7-dc1c-47497910d369"
      },
      "execution_count": 15,
      "outputs": [
        {
          "output_type": "stream",
          "name": "stdout",
          "text": [
            "[1, 2, 3, 4, 5, 6, 7, 8, 9, 10, 11, 12, 13, 14, 15, 16, 17, 18, 19, 20]\n"
          ]
        }
      ]
    },
    {
      "cell_type": "markdown",
      "source": [
        "## 3. Desenvolva um gerador de tabuada, capaz de gerar a tabuada de qualquer número inteiro entre 1 a 10. O usuário deve informar de qual numero ele deseja ver a tabuada. A saída deve ser conforme o exemplo abaixo:\n",
        "Tabuada de 5:\n",
        "5 X 1 = 5,\n",
        "5 X 2 = 10,\n",
        "...,\n",
        "5 X 10 = 50"
      ],
      "metadata": {
        "id": "7UPXbAgHaXbJ"
      }
    },
    {
      "cell_type": "code",
      "source": [
        "numero = int(input(\"Nota de 0 a 10: \"))\n",
        "\n",
        "while not (numero >= 0 and numero <= 10):\n",
        "  print(f\"O valor {numero} é inválido.\")\n",
        "  numero = int(input(\"Nota de 0 a 10: \"))\n",
        "else:\n",
        "  for passo in range(0,10):\n",
        "    print(f\"{numero} X {passo}: {numero * passo}\")\n"
      ],
      "metadata": {
        "colab": {
          "base_uri": "https://localhost:8080/"
        },
        "id": "qAg3U_D7aWZA",
        "outputId": "06ab71f9-68de-456d-c097-8354eedff1d1"
      },
      "execution_count": 19,
      "outputs": [
        {
          "output_type": "stream",
          "name": "stdout",
          "text": [
            "Nota de 0 a 10: 100\n",
            "O valor 100 é inválido.\n",
            "Nota de 0 a 10: 7\n",
            "7 X 0: 0\n",
            "7 X 1: 7\n",
            "7 X 2: 14\n",
            "7 X 3: 21\n",
            "7 X 4: 28\n",
            "7 X 5: 35\n",
            "7 X 6: 42\n",
            "7 X 7: 49\n",
            "7 X 8: 56\n",
            "7 X 9: 63\n"
          ]
        }
      ]
    }
  ]
}