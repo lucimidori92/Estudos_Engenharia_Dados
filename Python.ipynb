{
  "nbformat": 4,
  "nbformat_minor": 0,
  "metadata": {
    "colab": {
      "provenance": [],
      "toc_visible": true,
      "authorship_tag": "ABX9TyMF1UmW13gvi+qdVTOSKC6G",
      "include_colab_link": true
    },
    "kernelspec": {
      "name": "python3",
      "display_name": "Python 3"
    },
    "language_info": {
      "name": "python"
    }
  },
  "cells": [
    {
      "cell_type": "markdown",
      "metadata": {
        "id": "view-in-github",
        "colab_type": "text"
      },
      "source": [
        "<a href=\"https://colab.research.google.com/github/lucimidori92/Estudos_Engenharia_Dados/blob/main/Python.ipynb\" target=\"_parent\"><img src=\"https://colab.research.google.com/assets/colab-badge.svg\" alt=\"Open In Colab\"/></a>"
      ]
    },
    {
      "cell_type": "markdown",
      "source": [
        "# Estrutura de Dados\n"
      ],
      "metadata": {
        "id": "7-zF2yQO9vfl"
      }
    },
    {
      "cell_type": "markdown",
      "source": [
        "## Dicionário {}"
      ],
      "metadata": {
        "id": "fkXO5TKv98Fz"
      }
    },
    {
      "cell_type": "code",
      "source": [
        "receita = 'biscoitos \"os melhores do mundo\"'"
      ],
      "metadata": {
        "id": "OFjP9y0eDH8x"
      },
      "execution_count": 5,
      "outputs": []
    },
    {
      "cell_type": "code",
      "execution_count": 9,
      "metadata": {
        "id": "xr2QzCd45C04"
      },
      "outputs": [],
      "source": [
        "receitas = {\n",
        "    'receita1': None,\n",
        "    'receita2': None,\n",
        "    'biscoitos \"os melhores do mundo\"': {\n",
        "        'ingredientes': [\n",
        "        'ovos',\n",
        "        'recheio',\n",
        "        'fermento',\n",
        "        'acucar',\n",
        "        'manteiga',\n",
        "        'farinha'\n",
        "    ],\n",
        "        'passo-a-passo': (\n",
        "        \"1. Preaqueça o forno a 180 ºC (temperatura média). Unte uma assadeira grande com manteiga e enfarinhe com um pouco de farinha de trigo.\",\n",
        "        \"2. Numa tigela, junte a farinha, o açúcar, a manteiga e a essência de baunilha. Amasse bem com as mãos até formar uma massa lisa. Embale a massa com filme e leve para descansar na geladeira por 15 minutos.\",\n",
        "        \"3. Divida a massa em 3 porções. Modele um rolinho com cada porção e corte em fatias de 1 cm de espessura. Tranfira para a assadeira, deixando cerca de 0,5 cm entre cada um. Com um garfo, aperte levemente cada biscoito pra marcar.\",\n",
        "        \"4. Leve ao forno para assar por cerca de 25 minutos ou até os biscoitos ficarem levemente dourados. Retire do forno, deixe esfriar antes de servir ou armazenar.\"\n",
        "    )}\n",
        "}"
      ]
    },
    {
      "cell_type": "code",
      "source": [
        "receitas[receita]['ingredientes']"
      ],
      "metadata": {
        "colab": {
          "base_uri": "https://localhost:8080/"
        },
        "id": "8YR_ZD74_OTz",
        "outputId": "a4e9bdfe-dc17-4bac-8900-afa48f94d50a"
      },
      "execution_count": 11,
      "outputs": [
        {
          "output_type": "execute_result",
          "data": {
            "text/plain": [
              "['ovos', 'recheio', 'fermento', 'acucar', 'manteiga', 'farinha']"
            ]
          },
          "metadata": {},
          "execution_count": 11
        }
      ]
    },
    {
      "cell_type": "code",
      "source": [
        "padaria = [\n",
        "    'ovos', 'recheio', 'fermento', 'acucar', 'manteiga', 'farinha', 'leite', 'queijo', 'presunto', 'água', 'sabonete'\n",
        "]"
      ],
      "metadata": {
        "id": "v0M5oqeM_X_w"
      },
      "execution_count": 12,
      "outputs": []
    },
    {
      "cell_type": "code",
      "source": [
        "ingrediente = 'ovos'\n",
        "if ingrediente in padaria:\n",
        "  print(\"Existem ovos na padaria\")"
      ],
      "metadata": {
        "colab": {
          "base_uri": "https://localhost:8080/"
        },
        "id": "LVIc-5S-DhcY",
        "outputId": "8f740b9f-a155-4151-abd1-7e698f34f57c"
      },
      "execution_count": 18,
      "outputs": [
        {
          "output_type": "stream",
          "name": "stdout",
          "text": [
            "Existem ovos na padaria\n"
          ]
        }
      ]
    },
    {
      "cell_type": "code",
      "source": [
        "# o in mostra se um elemento está dentro de uma estrutura\n",
        "'pão' in padaria"
      ],
      "metadata": {
        "colab": {
          "base_uri": "https://localhost:8080/"
        },
        "id": "opVRGrHIDz9U",
        "outputId": "5eb41b1d-3fbb-46ca-ef26-f8a81a402814"
      },
      "execution_count": 20,
      "outputs": [
        {
          "output_type": "execute_result",
          "data": {
            "text/plain": [
              "False"
            ]
          },
          "metadata": {},
          "execution_count": 20
        }
      ]
    },
    {
      "cell_type": "code",
      "source": [
        "'fermento' in receitas[receita]['ingredientes']"
      ],
      "metadata": {
        "colab": {
          "base_uri": "https://localhost:8080/"
        },
        "id": "socRg7EIEC57",
        "outputId": "7b1eb426-8ba8-4b09-b2df-7ba65a2e001a"
      },
      "execution_count": 22,
      "outputs": [
        {
          "output_type": "execute_result",
          "data": {
            "text/plain": [
              "True"
            ]
          },
          "metadata": {},
          "execution_count": 22
        }
      ]
    },
    {
      "cell_type": "code",
      "source": [
        "ingredientes = ['ovos', 'recheio', 'fermento', 'acucar', 'manteiga', 'farinha']\n",
        "geladeira = ingredientes\n",
        "\n",
        "geladeira"
      ],
      "metadata": {
        "colab": {
          "base_uri": "https://localhost:8080/"
        },
        "id": "ArzV1rfLEP5d",
        "outputId": "bcf026a6-6498-46d0-c79b-6ea60c663ecd"
      },
      "execution_count": 25,
      "outputs": [
        {
          "output_type": "execute_result",
          "data": {
            "text/plain": [
              "['ovos', 'recheio', 'fermento', 'acucar', 'manteiga', 'farinha']"
            ]
          },
          "metadata": {},
          "execution_count": 25
        }
      ]
    },
    {
      "cell_type": "code",
      "source": [
        "# Identidade!!!\n",
        "geladeira is ingredientes"
      ],
      "metadata": {
        "colab": {
          "base_uri": "https://localhost:8080/"
        },
        "id": "YbV5uObvEX1-",
        "outputId": "c5222f09-f20d-4663-d43b-2f176a296a2a"
      },
      "execution_count": 27,
      "outputs": [
        {
          "output_type": "execute_result",
          "data": {
            "text/plain": [
              "True"
            ]
          },
          "metadata": {},
          "execution_count": 27
        }
      ]
    },
    {
      "cell_type": "code",
      "source": [
        "receitas[receita]['passo-a-passo'][2]"
      ],
      "metadata": {
        "colab": {
          "base_uri": "https://localhost:8080/",
          "height": 53
        },
        "id": "KYmExpiuGUm-",
        "outputId": "b3ec1d66-f4c1-4528-ad1b-6e765e402829"
      },
      "execution_count": 49,
      "outputs": [
        {
          "output_type": "execute_result",
          "data": {
            "text/plain": [
              "'3. Divida a massa em 3 porções. Modele um rolinho com cada porção e corte em fatias de 1 cm de espessura. Tranfira para a assadeira, deixando cerca de 0,5 cm entre cada um. Com um garfo, aperte levemente cada biscoito pra marcar.'"
            ],
            "application/vnd.google.colaboratory.intrinsic+json": {
              "type": "string"
            }
          },
          "metadata": {},
          "execution_count": 49
        }
      ]
    },
    {
      "cell_type": "markdown",
      "source": [
        "# Funções Built-In"
      ],
      "metadata": {
        "id": "_KpUfzenFKkC"
      }
    },
    {
      "cell_type": "code",
      "source": [
        "ingredientes = ['ovos', 'recheio', 'fermento', 'acucar', 'manteiga', 'farinha']"
      ],
      "metadata": {
        "id": "GAx8bSO7FaPu"
      },
      "execution_count": 38,
      "outputs": []
    },
    {
      "cell_type": "code",
      "source": [
        "# Copy - cria uma cópia da estrutura de outra variável, sem alterar a primeira variável caso haja adição ou remoção de algum item, mantendo ela intacta e original\n",
        "geladeira = ingredientes.copy()"
      ],
      "metadata": {
        "colab": {
          "base_uri": "https://localhost:8080/"
        },
        "id": "JT1u2vGUFU1S",
        "outputId": "1c035020-f35d-4aa2-dfbd-0862cf749d7f"
      },
      "execution_count": 39,
      "outputs": [
        {
          "output_type": "execute_result",
          "data": {
            "text/plain": [
              "['ovos', 'recheio', 'fermento', 'acucar', 'manteiga', 'farinha']"
            ]
          },
          "metadata": {},
          "execution_count": 39
        }
      ]
    },
    {
      "cell_type": "code",
      "source": [
        "# Append - adiciona um item no fim da lista\n",
        "geladeira.append('chocolate')"
      ],
      "metadata": {
        "id": "8L72izB8ElHB"
      },
      "execution_count": 40,
      "outputs": []
    },
    {
      "cell_type": "code",
      "source": [
        "# Remove - Remove um item da estrutura de dados que está sendo manipulada\n",
        "geladeira.remove('chocolate')"
      ],
      "metadata": {
        "id": "aSuc8EDKFgTu"
      },
      "execution_count": 44,
      "outputs": []
    },
    {
      "cell_type": "code",
      "source": [
        "geladeira"
      ],
      "metadata": {
        "colab": {
          "base_uri": "https://localhost:8080/"
        },
        "id": "vA65GUh3GAqV",
        "outputId": "73a5609e-15e5-4aa2-a509-99bee9b840fd"
      },
      "execution_count": 45,
      "outputs": [
        {
          "output_type": "execute_result",
          "data": {
            "text/plain": [
              "['ovos', 'recheio', 'fermento', 'acucar', 'manteiga', 'farinha']"
            ]
          },
          "metadata": {},
          "execution_count": 45
        }
      ]
    }
  ]
}