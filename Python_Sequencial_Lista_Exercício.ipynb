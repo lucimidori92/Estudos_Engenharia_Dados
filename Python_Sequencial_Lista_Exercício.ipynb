{
  "nbformat": 4,
  "nbformat_minor": 0,
  "metadata": {
    "colab": {
      "provenance": [],
      "toc_visible": true,
      "authorship_tag": "ABX9TyM975+RC8JD4r0qTiIXH1Ip",
      "include_colab_link": true
    },
    "kernelspec": {
      "name": "python3",
      "display_name": "Python 3"
    },
    "language_info": {
      "name": "python"
    }
  },
  "cells": [
    {
      "cell_type": "markdown",
      "metadata": {
        "id": "view-in-github",
        "colab_type": "text"
      },
      "source": [
        "<a href=\"https://colab.research.google.com/github/lucimidori92/Estudos_Engenharia_Dados/blob/main/Python_Sequencial_Lista_Exerc%C3%ADcio.ipynb\" target=\"_parent\"><img src=\"https://colab.research.google.com/assets/colab-badge.svg\" alt=\"Open In Colab\"/></a>"
      ]
    },
    {
      "cell_type": "code",
      "execution_count": 1,
      "metadata": {
        "colab": {
          "base_uri": "https://localhost:8080/"
        },
        "id": "mgNT6Pc8hY3H",
        "outputId": "2960b4cb-edc2-42a1-c838-90034db83017"
      },
      "outputs": [
        {
          "output_type": "stream",
          "name": "stdout",
          "text": [
            "Python 3.10.12\n"
          ]
        }
      ],
      "source": [
        "!python --version"
      ]
    },
    {
      "cell_type": "markdown",
      "source": [
        "# Exercícios"
      ],
      "metadata": {
        "id": "jBoZ2XsviNnP"
      }
    },
    {
      "cell_type": "markdown",
      "source": [
        "## 1. Faça um Programa que mostre a mensagem \"Alo mundo\" na tela."
      ],
      "metadata": {
        "id": "dBQ7RaQLhgu0"
      }
    },
    {
      "cell_type": "code",
      "source": [
        "print(\"Hello world!\")"
      ],
      "metadata": {
        "colab": {
          "base_uri": "https://localhost:8080/"
        },
        "id": "lxO06edqhgVS",
        "outputId": "85256211-1122-446b-d107-8cda6be0f3a2"
      },
      "execution_count": 2,
      "outputs": [
        {
          "output_type": "stream",
          "name": "stdout",
          "text": [
            "Hello world!\n"
          ]
        }
      ]
    },
    {
      "cell_type": "markdown",
      "source": [
        "## 2.Faça um Programa que peça um número e então mostre a mensagem: \"O número informado foi [número]\"."
      ],
      "metadata": {
        "id": "jExKYGg8hzRG"
      }
    },
    {
      "cell_type": "code",
      "source": [
        "x = input(\"Insira um número: \")\n",
        "print(f\"O número informado foi {x}\")"
      ],
      "metadata": {
        "colab": {
          "base_uri": "https://localhost:8080/"
        },
        "id": "MEgxig9QhxS4",
        "outputId": "7b4ef944-aaa4-4ae4-adb2-6fc0e1741d78"
      },
      "execution_count": 4,
      "outputs": [
        {
          "output_type": "stream",
          "name": "stdout",
          "text": [
            "Insira um número: 100\n",
            "O número informado foi 100\n"
          ]
        }
      ]
    },
    {
      "cell_type": "markdown",
      "source": [
        "## 3.Faça um Programa que peça dois números e imprima a soma."
      ],
      "metadata": {
        "id": "Q_PlwD8ZBeLl"
      }
    },
    {
      "cell_type": "code",
      "source": [
        "print(\"Bora somar. Insira 2 números.\")\n",
        "\n",
        "num1 = int(input(\"Número 1: \"))\n",
        "num2 = int(input(\"Número 2: \"))\n",
        "soma = num1 + num2\n",
        "\n",
        "print(f\"O resultado é {soma}\")\n"
      ],
      "metadata": {
        "colab": {
          "base_uri": "https://localhost:8080/"
        },
        "id": "b_qXf047BmZn",
        "outputId": "2a62c183-9a89-4e52-c806-819f76a95feb"
      },
      "execution_count": 5,
      "outputs": [
        {
          "output_type": "stream",
          "name": "stdout",
          "text": [
            "Bora somar. Insira 2 números.\n",
            "Número 1: 10\n",
            "Número 2: 23\n",
            "O resultado é 33\n"
          ]
        }
      ]
    },
    {
      "cell_type": "markdown",
      "source": [
        "## Faça um Programa que peça as 4 notas bimestrais e mostre a média."
      ],
      "metadata": {
        "id": "EVLHlP12Eg1Q"
      }
    },
    {
      "cell_type": "code",
      "source": [
        "nomeAluno = input(\"Insira o nome do aluno: \")\n",
        "print(f\"Bora fazer a média das notas do aluno {nomeAluno}. Insira as 4 notas.\")\n",
        "\n",
        "nota1 = float(input(\"Número 1: \"))\n",
        "nota2 = float(input(\"Número 2: \"))\n",
        "nota3 = float(input(\"Número 3: \"))\n",
        "nota4 = float(input(\"Número 4: \"))\n",
        "media = (nota1 + nota2 + nota3 + nota4)/4\n",
        "\n",
        "print(f\"A média do {nomeAluno} é {media}\")"
      ],
      "metadata": {
        "colab": {
          "base_uri": "https://localhost:8080/"
        },
        "id": "o48OrqDHEikw",
        "outputId": "4ce506f8-f61a-475d-8833-3fb081276822"
      },
      "execution_count": 7,
      "outputs": [
        {
          "output_type": "stream",
          "name": "stdout",
          "text": [
            "Insira o nome do aluno: Lucas\n",
            "Bora fazer a média das notas do aluno Lucas. Insira as 4 notas.\n",
            "Número 1: 3.4\n",
            "Número 2: 2\n",
            "Número 3: 10\n",
            "Número 4: 10\n",
            "A média do Lucas é 6.35\n"
          ]
        }
      ]
    }
  ]
}