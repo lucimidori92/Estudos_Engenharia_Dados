{
  "nbformat": 4,
  "nbformat_minor": 0,
  "metadata": {
    "colab": {
      "provenance": [],
      "authorship_tag": "ABX9TyN6oC28wHqYxGMiNVm4eNtp",
      "include_colab_link": true
    },
    "kernelspec": {
      "name": "python3",
      "display_name": "Python 3"
    },
    "language_info": {
      "name": "python"
    }
  },
  "cells": [
    {
      "cell_type": "markdown",
      "metadata": {
        "id": "view-in-github",
        "colab_type": "text"
      },
      "source": [
        "<a href=\"https://colab.research.google.com/github/lucimidori92/Estudos_Engenharia_Dados/blob/main/Python_Listas_Lista_Exerc%C3%ADcio.ipynb\" target=\"_parent\"><img src=\"https://colab.research.google.com/assets/colab-badge.svg\" alt=\"Open In Colab\"/></a>"
      ]
    },
    {
      "cell_type": "markdown",
      "source": [
        "# Listas\n",
        "Listas sempre utilizam colchetes [] <br>\n",
        "Possuem 3 estruturas básicas:\n",
        "*   Valores\n",
        "*   Índices positivos: vão da esquerda para a direita. Utilizado para encontrar os valores dentro da lista (sempre começa do número 0 e não do 1)\n",
        "*   Índices negativos: vão da direita para a esquerda. Utilizado para encontrar os valores dentro da lista (sempre começa do número -1). Muito útil casos em que é necessário pegar o último item da lista porém não é conhecido o tamanho da mesma.\n",
        "\n",
        "Colchete para criar e consultar\n",
        "\n"
      ],
      "metadata": {
        "id": "je3e7LWimiWZ"
      }
    },
    {
      "cell_type": "code",
      "source": [
        "valores = [\"Luciana\", \"Gabriela\", \"Ana\", \"Maria\", \"Daniela\", \"Carolina\", \"Raissa\"]\n",
        "# : é utilizado para fatiamento de listas\n",
        "\n",
        "valores[2:4] # ['Ana', 'Maria']\n",
        "valores[-5:-1] #['Ana', 'Maria', 'Daniela', 'Carolina']\n",
        "valores[:1] #['Luciana']\n",
        "valores[:3] #['Luciana', 'Gabriela', 'Ana']\n",
        "valores[1:3] #['Gabriela', 'Ana']\n",
        "valores[:] #['Luciana', 'Gabriela', 'Ana', 'Maria', 'Daniela', 'Carolina', 'Raissa'] - Pega a lista inteira (da esquerda para direita)\n",
        "valores[::-1] #['Raissa', 'Carolina', 'Daniela', 'Maria', 'Ana', 'Gabriela', 'Luciana'] - Os primeiros : são para pegar a posição. Já os segundos : são para pegar o passo. Nesse caso vai começar pelo fim. Útil para inversão de ordem de lista\n",
        "valores[::2] #['Luciana', 'Ana', 'Daniela', 'Raissa']"
      ],
      "metadata": {
        "id": "VS1KI9Pan-dY"
      },
      "execution_count": 23,
      "outputs": []
    },
    {
      "cell_type": "code",
      "source": [
        "type(valores)"
      ],
      "metadata": {
        "colab": {
          "base_uri": "https://localhost:8080/"
        },
        "id": "eZhzv-M4pyil",
        "outputId": "53696581-9410-4961-ddb3-61c32ec79b3a"
      },
      "execution_count": 27,
      "outputs": [
        {
          "output_type": "execute_result",
          "data": {
            "text/plain": [
              "list"
            ]
          },
          "metadata": {},
          "execution_count": 27
        }
      ]
    },
    {
      "cell_type": "code",
      "source": [
        "type(valores[0])\n"
      ],
      "metadata": {
        "colab": {
          "base_uri": "https://localhost:8080/"
        },
        "id": "fimmmNIPp8yn",
        "outputId": "5098b80e-a66f-4e00-c83f-cc16c6080585"
      },
      "execution_count": 28,
      "outputs": [
        {
          "output_type": "execute_result",
          "data": {
            "text/plain": [
              "str"
            ]
          },
          "metadata": {},
          "execution_count": 28
        }
      ]
    },
    {
      "cell_type": "code",
      "source": [
        "type(valores[:2])"
      ],
      "metadata": {
        "colab": {
          "base_uri": "https://localhost:8080/"
        },
        "id": "RL6ii6-7qAPj",
        "outputId": "196e1482-c2b5-4d4b-9de7-4498d7e93a6a"
      },
      "execution_count": 29,
      "outputs": [
        {
          "output_type": "execute_result",
          "data": {
            "text/plain": [
              "list"
            ]
          },
          "metadata": {},
          "execution_count": 29
        }
      ]
    },
    {
      "cell_type": "code",
      "source": [
        "valores[-1]"
      ],
      "metadata": {
        "colab": {
          "base_uri": "https://localhost:8080/",
          "height": 35
        },
        "id": "q6o3GKZKqYA-",
        "outputId": "4126b6eb-e85d-4695-c0ce-2b0ee022652b"
      },
      "execution_count": 36,
      "outputs": [
        {
          "output_type": "execute_result",
          "data": {
            "text/plain": [
              "'Raissa'"
            ],
            "application/vnd.google.colaboratory.intrinsic+json": {
              "type": "string"
            }
          },
          "metadata": {},
          "execution_count": 36
        }
      ]
    },
    {
      "cell_type": "code",
      "source": [
        "valores = [\"Luciana\", \"Gabriela\", \"Ana\", \"Maria\", \"Daniela\", \"Carolina\", \"Raissa\"]"
      ],
      "metadata": {
        "id": "blG7vzmDqsrE"
      },
      "execution_count": 37,
      "outputs": []
    },
    {
      "cell_type": "code",
      "source": [
        "valores[::-1]"
      ],
      "metadata": {
        "colab": {
          "base_uri": "https://localhost:8080/"
        },
        "id": "yF7wzaZ9qtof",
        "outputId": "0e97bdc1-b659-4808-8b9c-d82443c52bf4"
      },
      "execution_count": 47,
      "outputs": [
        {
          "output_type": "execute_result",
          "data": {
            "text/plain": [
              "['Raissa', 'Carolina', 'Daniela', 'Maria', 'Ana', 'Gabriela', 'Luciana']"
            ]
          },
          "metadata": {},
          "execution_count": 47
        }
      ]
    }
  ]
}