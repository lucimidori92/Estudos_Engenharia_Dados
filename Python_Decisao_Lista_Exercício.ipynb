{
  "nbformat": 4,
  "nbformat_minor": 0,
  "metadata": {
    "colab": {
      "provenance": [],
      "toc_visible": true,
      "authorship_tag": "ABX9TyMM9KZIww5NdreC7xtrxdEN",
      "include_colab_link": true
    },
    "kernelspec": {
      "name": "python3",
      "display_name": "Python 3"
    },
    "language_info": {
      "name": "python"
    }
  },
  "cells": [
    {
      "cell_type": "markdown",
      "metadata": {
        "id": "view-in-github",
        "colab_type": "text"
      },
      "source": [
        "<a href=\"https://colab.research.google.com/github/lucimidori92/Estudos_Engenharia_Dados/blob/main/Python_Decisao_Lista_Exerc%C3%ADcio.ipynb\" target=\"_parent\"><img src=\"https://colab.research.google.com/assets/colab-badge.svg\" alt=\"Open In Colab\"/></a>"
      ]
    },
    {
      "cell_type": "markdown",
      "source": [
        "https://wiki.python.org.br/EstruturaDeDecisao"
      ],
      "metadata": {
        "id": "yR4srBq_NhJV"
      }
    },
    {
      "cell_type": "markdown",
      "source": [
        "## 1. Faça um Programa que peça dois números e imprima o maior deles."
      ],
      "metadata": {
        "id": "TgKkct9GNman"
      }
    },
    {
      "cell_type": "code",
      "execution_count": 1,
      "metadata": {
        "colab": {
          "base_uri": "https://localhost:8080/"
        },
        "id": "0P1lMCG6M5-Z",
        "outputId": "fb065ac6-dacf-4ea0-efcd-86bf47b97307"
      },
      "outputs": [
        {
          "output_type": "stream",
          "name": "stdout",
          "text": [
            "Primeiro número: 19\n",
            "Segundo número: 90\n",
            "O maior número é 90\n"
          ]
        }
      ],
      "source": [
        "# if num_1 > num_2 then print num_1 else print num_2\n",
        "\n",
        "num_1 = int(input(\"Primeiro número: \"))\n",
        "num_2 = int(input(\"Segundo número: \"))\n",
        "\n",
        "if num_1 > num_2: #contexto\n",
        "  print(f\"O maior número é {num_1}\")\n",
        "else: #senão\n",
        "  print(f\"O maior número é {num_2}\")\n"
      ]
    },
    {
      "cell_type": "markdown",
      "source": [
        "## 2. Faça um Programa que verifique se uma letra digitada é vogal ou consoante."
      ],
      "metadata": {
        "id": "1gL1pTxKO3AK"
      }
    },
    {
      "cell_type": "code",
      "source": [
        "letra = input(\"Digite uma letra: \").lower()\n",
        "\n",
        "if letra in [\"a\", \"e\", \"i\", \"o\", \"u\"]:\n",
        "  print(\"Você digitou uma vogal\")\n",
        "else:\n",
        "  print(\"Você digitou uma consoante\")"
      ],
      "metadata": {
        "colab": {
          "base_uri": "https://localhost:8080/"
        },
        "id": "gAaJfGEKO2V_",
        "outputId": "23f9160a-0815-4301-ee80-d9eb489b6afd"
      },
      "execution_count": 7,
      "outputs": [
        {
          "output_type": "stream",
          "name": "stdout",
          "text": [
            "Digite uma letra: U\n",
            "Você digitou uma vogal\n"
          ]
        }
      ]
    },
    {
      "cell_type": "markdown",
      "source": [
        "## 3. Faça um programa para a leitura de duas notas parciais de um aluno. O programa deve calcular a média alcançada por aluno e apresentar:\n",
        "* A mensagem \"Aprovado\", se a média alcançada for maior ou igual a sete;\n",
        "* A mensagem \"Reprovado\", se a média for menor do que sete;\n",
        "* A mensagem \"Aprovado com Distinção\", se a média for igual a dez."
      ],
      "metadata": {
        "id": "Ys2_VmgtnWuC"
      }
    },
    {
      "cell_type": "code",
      "source": [
        "nota_1 = int(input(\"Nota 1: \"))\n",
        "nota_2 = int(input(\"Nota 2: \"))\n",
        "\n",
        "media = (nota_1 + nota_2)/2\n",
        "\n",
        "if media >= 7:\n",
        "  if media == 10:\n",
        "    print(\"Aprovado com distinção. Parabéns!\")\n",
        "  else:\n",
        "    print(\"Aprovado. Parabéns.\")\n",
        "else:\n",
        "  print(\"Reprovado. Nos vemos na recuperação.\")\n"
      ],
      "metadata": {
        "colab": {
          "base_uri": "https://localhost:8080/"
        },
        "id": "QHQCCQIZnj3g",
        "outputId": "4080cf0f-7238-4ed1-f1f6-b6a52bbbadfe"
      },
      "execution_count": 10,
      "outputs": [
        {
          "output_type": "stream",
          "name": "stdout",
          "text": [
            "Nota 1: 10\n",
            "Nota 2: 10\n",
            "Aprovado com distinção. Parabéns!\n"
          ]
        }
      ]
    },
    {
      "cell_type": "markdown",
      "source": [
        "## 4. As Organizações Tabajara resolveram dar um aumento de salário aos seus colaboradores e lhe contraram para desenvolver o programa que calculará os reajustes.\n",
        "Faça um programa que recebe o salário de um colaborador e o reajuste segundo o seguinte critério, baseado no salário atual:\n",
        "\n",
        "* salários até 280,00 (incluindo) : aumento de 20%\n",
        "* salários entre 280,00 e 700,00 : aumento de 15%\n",
        "* salários entre 700,00 e 1500,00 : aumento de 10%\n",
        "* salários de 1500,00 em diante : aumento de 5% Após o aumento ser realizado, informe na tela:\n",
        "* o salário antes do reajuste;\n",
        "* o percentual de aumento aplicado;\n",
        "* o valor do aumento;\n",
        "* o novo salário, após o aumento."
      ],
      "metadata": {
        "id": "P1NIC4PkpS6t"
      }
    },
    {
      "cell_type": "code",
      "source": [
        "print(100*'-')\n",
        "print(\"Cálculo de reajuste salarial. Por gentileza, insira o salário a ser calculado.\")\n",
        "print(100*'-')\n",
        "\n",
        "salario = float(input(\"Salário: R$\"))\n",
        "\n",
        "if salario <= 280:\n",
        "  percentual = 0.20\n",
        "  salario_aumento = salario + salario * percentual\n",
        "elif salario <= 700:\n",
        "  percentual = 0.15\n",
        "  salario_aumento = salario + salario * percentual\n",
        "elif salario <= 1500:\n",
        "  percentual = 0.10\n",
        "  salario_aumento = salario + salario * percentual\n",
        "else:\n",
        "  percentual = 0.05\n",
        "  salario_aumento = salario + salario * percentual\n",
        "\n",
        "print(f\"Salário antes do reajuste: R${salario}\\nPercentual de aumento aplicado: {percentual*100}\\nO valor do aumento foi de: R${round((salario * percentual), 2)}\\nO novo valor salarial será de R${salario_aumento}\")\n"
      ],
      "metadata": {
        "colab": {
          "base_uri": "https://localhost:8080/"
        },
        "id": "vQQ5Ad7WpjFk",
        "outputId": "94bbf966-d2da-44d0-f075-246881937ae1"
      },
      "execution_count": 38,
      "outputs": [
        {
          "output_type": "stream",
          "name": "stdout",
          "text": [
            "----------------------------------------------------------------------------------------------------\n",
            "Cálculo de reajuste salarial. Por gentileza, insira o salário a ser calculado.\n",
            "----------------------------------------------------------------------------------------------------\n",
            "Salário: R$253\n",
            "Salário antes do reajuste: R$253.0\n",
            "Percentual de aumento aplicado: 20.0\n",
            "O valor do aumento foi de: R$50.6\n",
            "O novo valor salarial será de R$303.6\n"
          ]
        }
      ]
    }
  ]
}